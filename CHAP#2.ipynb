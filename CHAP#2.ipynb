{
 "cells": [
  {
   "cell_type": "code",
   "execution_count": null,
   "metadata": {},
   "outputs": [],
   "source": [
    "          Mohammad Adeel\n",
    "            19B-107-Se"
   ]
  },
  {
   "cell_type": "markdown",
   "metadata": {},
   "source": [
    "# 2.11"
   ]
  },
  {
   "cell_type": "code",
   "execution_count": 1,
   "metadata": {},
   "outputs": [
    {
     "name": "stdout",
     "output_type": "stream",
     "text": [
      "-28\n"
     ]
    }
   ],
   "source": [
    "Int=((-7)+(-6)+(-5)+(-4)+(-3)+(-2)+(-1))\n",
    "print(Int)"
   ]
  },
  {
   "cell_type": "code",
   "execution_count": 5,
   "metadata": {},
   "outputs": [
    {
     "name": "stdout",
     "output_type": "stream",
     "text": [
      "10.651685393258427\n"
     ]
    }
   ],
   "source": [
    "avg_age =(9*17+24*10+21*11+27*12)/(17+24+21+27)\n",
    "print(avg_age)"
   ]
  },
  {
   "cell_type": "code",
   "execution_count": 6,
   "metadata": {},
   "outputs": [
    {
     "data": {
      "text/plain": [
       "9.5367431640625e-07"
      ]
     },
     "execution_count": 6,
     "metadata": {},
     "output_type": "execute_result"
    }
   ],
   "source": [
    "(2**-20)"
   ]
  },
  {
   "cell_type": "code",
   "execution_count": 7,
   "metadata": {},
   "outputs": [
    {
     "data": {
      "text/plain": [
       "265716"
      ]
     },
     "execution_count": 7,
     "metadata": {},
     "output_type": "execute_result"
    }
   ],
   "source": [
    "print(61*4356)"
   ]
  },
  {
   "cell_type": "code",
   "execution_count": 8,
   "metadata": {},
   "outputs": [
    {
     "data": {
      "text/plain": [
       "34"
      ]
     },
     "execution_count": 8,
     "metadata": {},
     "output_type": "execute_result"
    }
   ],
   "source": [
    "(4365%61)"
   ]
  },
  {
   "cell_type": "markdown",
   "metadata": {},
   "source": [
    "# 2.12"
   ]
  },
  {
   "cell_type": "code",
   "execution_count": 9,
   "metadata": {},
   "outputs": [
    {
     "name": "stdout",
     "output_type": "stream",
     "text": [
      "-+\n",
      "-+-\n",
      "+--\n",
      "+--+--\n",
      "+--+--+--+--+--+--+--+--+--+--+\n",
      "+-+++--+-+++--+-+++--+-+++--+-+++--\n"
     ]
    }
   ],
   "source": [
    "s1='-'\n",
    "s2='+'\n",
    "print(s1+s2)\n",
    "print(s1+s2+s1)\n",
    "print(s2+s1+s1)\n",
    "print(2*(s2+s1+s1))\n",
    "print((10*(s2+s1+s1))+s2)\n",
    "print(5*(s2+s1+s2*3+s1*2))"
   ]
  },
  {
   "cell_type": "markdown",
   "metadata": {},
   "source": [
    "# 2.13"
   ]
  },
  {
   "cell_type": "code",
   "execution_count": 10,
   "metadata": {},
   "outputs": [
    {
     "name": "stdout",
     "output_type": "stream",
     "text": [
      "a\n",
      "c\n",
      "z\n",
      "y\n",
      "s\n"
     ]
    }
   ],
   "source": [
    "s = 'abcdefghijklmnopqrstuvwxyz' \n",
    "print(s[0])\n",
    "print(s[2])\n",
    "print(s[25])\n",
    "print(s[24])\n",
    "print(s[18])"
   ]
  },
  {
   "cell_type": "markdown",
   "metadata": {},
   "source": [
    "# 2.14:"
   ]
  },
  {
   "cell_type": "code",
   "execution_count": 11,
   "metadata": {},
   "outputs": [
    {
     "name": "stdout",
     "output_type": "stream",
     "text": [
      "The ﬁrst character of strings is'g' True\n",
      "The seventh character of s is'g' False\n",
      " The ﬁrst two characters of s are'g' and 'a'  False\n",
      "The next to last character of s is 'x' False\n",
      "the middle character of s is 'd' 4\n",
      "the first and last character of string s are equal False\n",
      "the last four characters of string match the sring False\n"
     ]
    }
   ],
   "source": [
    "s='goodbye'\n",
    "print(\"The ﬁrst character of strings is'g'\",s[0]=='g')\n",
    "print(\"The seventh character of s is'g'\",s[6]=='g')\n",
    "print(\" The ﬁrst two characters of s are'g' and 'a' \",s[0]=='g' and s[1]=='a')\n",
    "print(\"The next to last character of s is 'x'\",s[-2]=='x')\n",
    "print(\"the middle character of s is 'd'\",(len(s)//2+1))\n",
    "print(\"the first and last character of string s are equal\",s[0]==s[-1])\n",
    "print(\"the last four characters of string match the sring\",s[-4:]=='tion')"
   ]
  },
  {
   "cell_type": "markdown",
   "metadata": {},
   "source": [
    "# 2.15"
   ]
  },
  {
   "cell_type": "code",
   "execution_count": 20,
   "metadata": {},
   "outputs": [],
   "source": [
    "A=['anachronistically']\n",
    "B=['counterintuitive']\n",
    "Len_A=len(A)\n",
    "Len_B=len(B)\n",
    "diff=abs(Len_A-Len_B)\n",
    "if Len_A>Len_B:\n",
    "    print('The word anachronistically have',diff, 'word greater than counterinitutive')\n",
    "elif Len_B>Len_A:\n",
    "    print('The word anachronistically have',diff, 'word greater than counterinitutive')"
   ]
  },
  {
   "cell_type": "markdown",
   "metadata": {},
   "source": [
    "# 2.16:"
   ]
  },
  {
   "cell_type": "code",
   "execution_count": 10,
   "metadata": {},
   "outputs": [
    {
     "name": "stdout",
     "output_type": "stream",
     "text": [
      "6 7\n",
      "6.5\n",
      "['paper', 'staples', 'pencils']\n",
      "john fitzgerald kennedy\n"
     ]
    }
   ],
   "source": [
    "a=6\n",
    "b=7\n",
    "print(a,b)\n",
    "c=(a+b)/2\n",
    "print(c)\n",
    "inventory=['paper','staples','pencils']\n",
    "print(inventory)\n",
    "first,middle,last='john','fitzgerald','kennedy'\n",
    "fullname= first+' '+middle+' '+last\n",
    "print(fullname)"
   ]
  },
  {
   "cell_type": "markdown",
   "metadata": {},
   "source": [
    "# 2.17"
   ]
  },
  {
   "cell_type": "code",
   "execution_count": 22,
   "metadata": {},
   "outputs": [
    {
     "name": "stdout",
     "output_type": "stream",
     "text": [
      "False\n",
      "False\n",
      "True\n",
      "True\n",
      "False\n",
      "False\n"
     ]
    }
   ],
   "source": [
    "print(17+(-9)>10)\n",
    "print(len(inventory)>5*len(fullname))\n",
    "print(c<=24)\n",
    "print(a<6.75 and 6.75<b)\n",
    "print(len(middle)>len(first) and len(middle)<len(last))\n",
    "print(len(inventory)==0 or len(inventory)>10)"
   ]
  },
  {
   "cell_type": "markdown",
   "metadata": {},
   "source": [
    "# 2.18"
   ]
  },
  {
   "cell_type": "code",
   "execution_count": 11,
   "metadata": {},
   "outputs": [
    {
     "name": "stdout",
     "output_type": "stream",
     "text": [
      "False\n",
      "['rose', 'bougainvillea', 'yuca']\n",
      "['lilly of the valley']\n",
      "['rose', 'bougainvillea', 'yuca', 'lilly of the valley']\n"
     ]
    }
   ],
   "source": [
    "flowers=['rose','bougainvillea','yuca','marigold','daylilly','lilly of the valley']\n",
    "print('potato'in 'flowers')\n",
    "thorny=flowers[:3]\n",
    "poisionous=[flowers[-1]]\n",
    "dangerous=thorny+poisionous\n",
    "print(thorny)\n",
    "print(poisionous)\n",
    "print(dangerous)"
   ]
  },
  {
   "cell_type": "code",
   "execution_count": null,
   "metadata": {},
   "outputs": [],
   "source": []
  },
  {
   "cell_type": "markdown",
   "metadata": {},
   "source": [
    "# 2.19"
   ]
  },
  {
   "cell_type": "code",
   "execution_count": 24,
   "metadata": {},
   "outputs": [
    {
     "name": "stdout",
     "output_type": "stream",
     "text": [
      "5\n",
      "6\n",
      "45.45454545454545\n",
      "['N', 'N', 'N', 'N', 'N', 'N', 'Y', 'Y', 'Y', 'Y', 'Y']\n",
      "6\n"
     ]
    }
   ],
   "source": [
    "answers=['Y','N','N','Y','N','Y','Y','Y','N','N','N']\n",
    "numYES=answers.count('Y')\n",
    "print(numYES)\n",
    "numNO=answers.count('N')\n",
    "print(numNO)\n",
    "percentYES=numYES/len(answers)*100\n",
    "print(percentYES)\n",
    "answers.sort()\n",
    "print(answers)\n",
    "x=answers.index('Y')\n",
    "print(x)"
   ]
  },
  {
   "cell_type": "markdown",
   "metadata": {},
   "source": [
    "# 2.20"
   ]
  },
  {
   "cell_type": "code",
   "execution_count": 25,
   "metadata": {
    "scrolled": true
   },
   "outputs": [
    {
     "name": "stdout",
     "output_type": "stream",
     "text": [
      "enter a value:TOP\n"
     ]
    },
    {
     "data": {
      "text/plain": [
       "'POT'"
      ]
     },
     "execution_count": 25,
     "metadata": {},
     "output_type": "execute_result"
    }
   ],
   "source": [
    "s=input(\"enter a value:\")\n",
    "s[::-1]"
   ]
  },
  {
   "cell_type": "markdown",
   "metadata": {},
   "source": [
    "# 2.21"
   ]
  },
  {
   "cell_type": "code",
   "execution_count": null,
   "metadata": {},
   "outputs": [],
   "source": [
    "s=input(\"enter the author first name: \")\n",
    "t=input(\"enter the author last name: \")\n",
    "s[0]+t[0]"
   ]
  },
  {
   "cell_type": "markdown",
   "metadata": {},
   "source": [
    "# 2.22"
   ]
  },
  {
   "cell_type": "code",
   "execution_count": 1,
   "metadata": {},
   "outputs": [
    {
     "name": "stdout",
     "output_type": "stream",
     "text": [
      "14\n"
     ]
    }
   ],
   "source": [
    "lst_num=[3,7,-2,12]\n",
    "diff=max(lst_num)-min(lst_num)\n",
    "print(diff)"
   ]
  },
  {
   "cell_type": "markdown",
   "metadata": {},
   "source": [
    "# 2.23"
   ]
  },
  {
   "cell_type": "code",
   "execution_count": 2,
   "metadata": {},
   "outputs": [
    {
     "name": "stdout",
     "output_type": "stream",
     "text": [
      "['jan', 'feb', 'mar', 'apr', 'may']\n",
      "['jan', 'feb', 'mar', 'apr', 'may', 'jun']\n",
      "['jan', 'feb', 'mar', 'apr', 'may']\n",
      "['jan', 'mar', 'apr', 'may']\n",
      "['apr', 'jan', 'mar', 'may']\n"
     ]
    }
   ],
   "source": [
    "monthsl=['jan','feb','mar','may']\n",
    "monthst=('jan','feb','mar','may')\n",
    "monthsl.insert(3,'apr')\n",
    "print(monthsl)\n",
    "monthsl.append('jun')\n",
    "print(monthsl)\n",
    "monthsl.pop()\n",
    "print(monthsl)\n",
    "monthsl.remove('feb')\n",
    "print(monthsl)\n",
    "monthsl.sort()\n",
    "print(monthsl)"
   ]
  },
  {
   "cell_type": "markdown",
   "metadata": {},
   "source": [
    "# 2.24"
   ]
  },
  {
   "cell_type": "code",
   "execution_count": 3,
   "metadata": {},
   "outputs": [
    {
     "name": "stdout",
     "output_type": "stream",
     "text": [
      "[4, 4, 2, 2, 1]\n"
     ]
    }
   ],
   "source": [
    "grades=['B','B','F','C','B','A','A','D','C','D','A','A','B']\n",
    "count_A=grades.count('A')\n",
    "count_B=grades.count('B')\n",
    "count_C=grades.count('C')\n",
    "count_D=grades.count('D')\n",
    "count_F=grades.count('F')\n",
    "grades_count=[count_A,count_B,count_C,count_D,count_F]\n",
    "print(grades_count)"
   ]
  },
  {
   "cell_type": "markdown",
   "metadata": {},
   "source": [
    "# 2.25"
   ]
  },
  {
   "cell_type": "code",
   "execution_count": 4,
   "metadata": {},
   "outputs": [
    {
     "name": "stdout",
     "output_type": "stream",
     "text": [
      "(4, 4, 2, 2, 1)\n"
     ]
    }
   ],
   "source": [
    "grades=('B','B','F','C','B','A','A','D','C','D','A','A','B')\n",
    "count_A=grades.count('A')\n",
    "count_B=grades.count('B')\n",
    "count_C=grades.count('C')\n",
    "count_D=grades.count('D')\n",
    "count_F=grades.count('F')\n",
    "grades_count=(count_A,count_B,count_C,count_D,count_F)\n",
    "print(grades_count)"
   ]
  },
  {
   "cell_type": "markdown",
   "metadata": {},
   "source": [
    "# 2.26"
   ]
  },
  {
   "cell_type": "code",
   "execution_count": 9,
   "metadata": {},
   "outputs": [
    {
     "name": "stdout",
     "output_type": "stream",
     "text": [
      "Enter the length of the ladder : 100\n",
      "Enter the angle made by the ladder : 45\n",
      "The height of the ladder is :  70.71787868720665\n"
     ]
    }
   ],
   "source": [
    "import math\n",
    "l=eval(input('Enter the length of the ladder : '))\n",
    "ang=eval(input('Enter the angle made by the ladder : '))\n",
    "pi=3.142\n",
    "rad=(pi*ang)/180\n",
    "height=l*math.sin(rad)\n",
    "print('The height of the ladder is : ',height)"
   ]
  },
  {
   "cell_type": "markdown",
   "metadata": {},
   "source": [
    "# 2.27"
   ]
  },
  {
   "cell_type": "code",
   "execution_count": 6,
   "metadata": {},
   "outputs": [
    {
     "name": "stdout",
     "output_type": "stream",
     "text": [
      "the middle element is:  5\n",
      "the index of the middle element is:  4\n",
      "the reverse of list is:  [9, 8, 7, 6, 5, 4, 3, 2, 1]\n",
      "[2, 3, 4, 5, 6, 7, 8, 9, 1]\n"
     ]
    }
   ],
   "source": [
    "lst=[1,2,3,4,5,6,7,8,9]\n",
    "mid=len(lst)//2+1\n",
    "print(\"the middle element is: \",mid)\n",
    "ind=lst.index(mid)\n",
    "print(\"the index of the middle element is: \",ind)\n",
    "lst.sort(reverse=True)\n",
    "print(\"the reverse of list is: \",lst)\n",
    "lst.sort()\n",
    "lst.append(lst.pop(0))\n",
    "print(lst)"
   ]
  },
  {
   "cell_type": "markdown",
   "metadata": {},
   "source": [
    "# 2.28"
   ]
  },
  {
   "cell_type": "code",
   "execution_count": 7,
   "metadata": {},
   "outputs": [
    {
     "name": "stdout",
     "output_type": "stream",
     "text": [
      "True\n",
      "True\n",
      "True\n"
     ]
    }
   ],
   "source": [
    "print(0==(1==2))\n",
    "print((2+(3==4)+5)==7)\n",
    "print((1<-1)==(3>4))"
   ]
  },
  {
   "cell_type": "markdown",
   "metadata": {},
   "source": [
    "# 2.29"
   ]
  },
  {
   "cell_type": "code",
   "execution_count": 8,
   "metadata": {},
   "outputs": [
    {
     "name": "stdout",
     "output_type": "stream",
     "text": [
      "[2, 3, 4, 5, 6]\n",
      "[2, 3, 4, 5, 6]\n",
      "[]\n",
      "[2, 3, 4, 5, 6]\n"
     ]
    }
   ],
   "source": [
    "lst=[2,3,4]\n",
    "lst.extend([5,6])\n",
    "print(lst)\n",
    "lst2=lst.copy()\n",
    "print(lst2)\n",
    "lst.clear()\n",
    "print(lst)\n",
    "print(lst2)"
   ]
  },
  {
   "cell_type": "code",
   "execution_count": null,
   "metadata": {},
   "outputs": [],
   "source": []
  }
 ],
 "metadata": {
  "kernelspec": {
   "display_name": "Python 3",
   "language": "python",
   "name": "python3"
  },
  "language_info": {
   "codemirror_mode": {
    "name": "ipython",
    "version": 3
   },
   "file_extension": ".py",
   "mimetype": "text/x-python",
   "name": "python",
   "nbconvert_exporter": "python",
   "pygments_lexer": "ipython3",
   "version": "3.7.3"
  }
 },
 "nbformat": 4,
 "nbformat_minor": 2
}
